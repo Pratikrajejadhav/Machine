{
 "cells": [
  {
   "cell_type": "markdown",
   "id": "ab931ddc",
   "metadata": {},
   "source": [
    "## Step-1: We read the data\n",
    "         \n",
    "        - Feature engineering\n",
    "        \n",
    "## Step-2: You perform all the EDA\n",
    "        - your data should be ready for the training\n",
    "        - all the columns should be numerical\n",
    "     \n",
    "       \n",
    "## Step-3: Feature selection\n",
    "\n",
    "        - Select the important features\n",
    "\n",
    "        - 1) p-value (linear regression)\n",
    "        - 2) VIF  (linear regression)\n",
    "        - 3) Highest Correlation with target (classification)\n",
    "        - 4) Variance Threshold (classification)\n",
    "        - 5) Mutual info classify (classification)\n",
    "            - Select K best\n",
    "        - 6) Forward and Backward selection \n",
    "\n",
    "## Step-4:  Divide X and y\n",
    "\n",
    "\n",
    "## Step-5:  X_train,y_train,x_test,y_test=traintestsplit()\n",
    "\n",
    "\n",
    "## Step-6: Model development\n",
    "        - from sklearn.linearmodel import LR\n",
    "        \n",
    "\n",
    "## Step-7:  Predictions\n",
    "         - LR.predict(X_test)  Batch predictions\n",
    "         - LR.predict([11])    Real or endpoint\n",
    "\n",
    "\n",
    "## Step-8:  Evaluation\n",
    "         - MSE  RMSE  Rsquare\n",
    "         \n",
    "         \n",
    "## Step-9: Coefficients\n",
    "\n",
    "\n",
    "\n",
    "============================ Model performance you might not happy \n",
    "                             even though we slect the features ====================================================\n",
    "                             \n",
    "### Select features only final data \n",
    "\n",
    "- **we again build  the model by apply the standardization (other modelas also)**\n",
    "- **we again build  the model by apply the normalization  (Linear regression and Deep learning)**\n",
    "- **we again build  the model by apply the PCA(Principal component analysis)**\n",
    "- **PCA : I dont want drop the feature , i want to use all the features but again i should avoid the multicollinearity**\n",
    "\n",
    "\n",
    "\n",
    "\n",
    "\n",
    "\n",
    "Data is modifying \n",
    "but here we will build only linear regression only\n",
    "\n",
    "\n"
   ]
  },
  {
   "cell_type": "code",
   "execution_count": null,
   "id": "da2faa05",
   "metadata": {},
   "outputs": [],
   "source": []
  },
  {
   "cell_type": "code",
   "execution_count": null,
   "id": "42535380",
   "metadata": {},
   "outputs": [],
   "source": [
    "- when the model is developed"
   ]
  },
  {
   "cell_type": "code",
   "execution_count": null,
   "id": "0e4c5766",
   "metadata": {},
   "outputs": [],
   "source": []
  },
  {
   "cell_type": "code",
   "execution_count": null,
   "id": "1d62b8bd",
   "metadata": {},
   "outputs": [],
   "source": []
  },
  {
   "cell_type": "code",
   "execution_count": null,
   "id": "5f3bfbbe",
   "metadata": {},
   "outputs": [],
   "source": []
  },
  {
   "cell_type": "code",
   "execution_count": null,
   "id": "6f85a547",
   "metadata": {},
   "outputs": [],
   "source": []
  }
 ],
 "metadata": {
  "kernelspec": {
   "display_name": "Python 3 (ipykernel)",
   "language": "python",
   "name": "python3"
  },
  "language_info": {
   "codemirror_mode": {
    "name": "ipython",
    "version": 3
   },
   "file_extension": ".py",
   "mimetype": "text/x-python",
   "name": "python",
   "nbconvert_exporter": "python",
   "pygments_lexer": "ipython3",
   "version": "3.11.5"
  }
 },
 "nbformat": 4,
 "nbformat_minor": 5
}
